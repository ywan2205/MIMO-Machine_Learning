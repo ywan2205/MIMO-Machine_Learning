{
 "cells": [
  {
   "cell_type": "code",
   "execution_count": 21,
   "metadata": {},
   "outputs": [
    {
     "name": "stdout",
     "output_type": "stream",
     "text": [
      "We opened file SNRdB_is_1.mat and found file[0][0] is\n",
      "43.789089811780016\n",
      "We opened file SNRdB_is_2.mat and found file[0][0] is\n",
      "8.81332264736643\n",
      "We opened file SNRdB_is_3.mat and found file[0][0] is\n",
      "6.9258040571362525\n",
      "We opened file SNRdB_is_4.mat and found file[0][0] is\n",
      "-2.5166249182373748\n",
      "We opened file SNRdB_is_5.mat and found file[0][0] is\n",
      "13.405413537208398\n",
      "We opened file SNRdB_is_6.mat and found file[0][0] is\n",
      "18.233046923083005\n",
      "We opened file SNRdB_is_7.mat and found file[0][0] is\n",
      "6.414061511913475\n"
     ]
    }
   ],
   "source": [
    "import scipy.io as spio\n",
    "# This file is used to read training data. \n",
    "# We generated several traning data and saved it as 'SNRdB_is_X.mat', where X could be any integers.\n",
    "\n",
    "# Remember in MATLAB lists start from one while in Python lists start from zero. \n",
    "# WHich means Pythondata[0][0][8] == Matfile[1][1][9]. This should always be remembered when we feed the data into our Machine Learning Programme. \n",
    "\n",
    "\n",
    "i = 1\n",
    "while True:\n",
    "    try:\n",
    "        file_name = 'SNRdB_is_' + str(i) + '.mat'\n",
    "        lib = spio.loadmat(file_name)\n",
    "        print(f'We opened file {file_name} and found file[0][0] is')\n",
    "        print(lib['y6_save_real_image'][0][0][8])\n",
    "        i = i+1\n",
    "    except:\n",
    "        break"
   ]
  },
  {
   "cell_type": "code",
   "execution_count": null,
   "metadata": {},
   "outputs": [],
   "source": []
  }
 ],
 "metadata": {
  "kernelspec": {
   "display_name": "Python 3",
   "language": "python",
   "name": "python3"
  },
  "language_info": {
   "codemirror_mode": {
    "name": "ipython",
    "version": 3
   },
   "file_extension": ".py",
   "mimetype": "text/x-python",
   "name": "python",
   "nbconvert_exporter": "python",
   "pygments_lexer": "ipython3",
   "version": "3.7.3"
  }
 },
 "nbformat": 4,
 "nbformat_minor": 2
}
